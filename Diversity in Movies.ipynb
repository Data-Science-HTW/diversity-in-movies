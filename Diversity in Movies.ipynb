{
 "cells": [
  {
   "cell_type": "code",
   "execution_count": 6,
   "metadata": {
    "collapsed": false
   },
   "outputs": [],
   "source": [
    "from __future__ import print_function\n",
    "\n",
    "import math\n",
    "\n",
    "from IPython import display\n",
    "from matplotlib import cm\n",
    "from matplotlib import gridspec\n",
    "import matplotlib.pyplot as plt\n",
    "\n",
    "import tensorflow as tf\n",
    "import numpy as np\n",
    "import pandas as pd\n",
    "import sqlalchemy as sa\n",
    "\n",
    "import sklearn.metrics as metrics\n",
    "from tensorflow.python.data import Dataset"
   ]
  },
  {
   "cell_type": "code",
   "execution_count": 25,
   "metadata": {
    "collapsed": false
   },
   "outputs": [],
   "source": [
    "#getting movies dataset using Pandas from movie_metadata provided by Prof Zhang\n",
    "movies_dataframe =  pd.read_csv(\"movie_metadata.csv\", sep=\",\")\n",
    "movies_dataframe = movies_dataframe.rename(columns={'actor_2_name': 'lead_actors'})"
   ]
  },
  {
   "cell_type": "code",
   "execution_count": 26,
   "metadata": {
    "collapsed": false
   },
   "outputs": [],
   "source": [
    "#getting actors dataset using Pandas from BuzzFeed\n",
    "actors_dataframe = pd.read_csv(\"actor-metrics.csv\", sep=\",\")\n",
    "actors_dataframe = actors_dataframe.rename(columns={'actor': 'lead_actors'})"
   ]
  },
  {
   "cell_type": "code",
   "execution_count": 27,
   "metadata": {
    "collapsed": false
   },
   "outputs": [],
   "source": [
    "#getting biopics dataset using Pandas from \n",
    "biopics_dataframe = pd.read_csv(\"biopics.csv\", sep=\",\", encoding='latin-1')\n",
    "biopics_dataframe = biopics_dataframe.rename(columns={'lead_actor_actress': 'lead_actors'})"
   ]
  },
  {
   "cell_type": "code",
   "execution_count": 29,
   "metadata": {
    "collapsed": false
   },
   "outputs": [],
   "source": [
    "movies_dataframe.merge(actors_dataframe,on='lead_actors').merge(biopics_dataframe,on='lead_actors')"
   ]
  },
  {
   "cell_type": "code",
   "execution_count": null,
   "metadata": {
    "collapsed": true
   },
   "outputs": [],
   "source": []
  }
 ],
 "metadata": {
  "kernelspec": {
   "display_name": "Python 3",
   "language": "python",
   "name": "python3"
  },
  "language_info": {
   "codemirror_mode": {
    "name": "ipython",
    "version": 3
   },
   "file_extension": ".py",
   "mimetype": "text/x-python",
   "name": "python",
   "nbconvert_exporter": "python",
   "pygments_lexer": "ipython3",
   "version": "3.6.0"
  }
 },
 "nbformat": 4,
 "nbformat_minor": 2
}
